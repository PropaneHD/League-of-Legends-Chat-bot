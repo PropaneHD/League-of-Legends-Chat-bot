{
 "cells": [
  {
   "cell_type": "code",
   "execution_count": 10,
   "id": "80f7bc6e",
   "metadata": {},
   "outputs": [],
   "source": [
    "import pickle \n",
    "import random \n",
    "import string \n",
    "import numpy as np \n",
    "import pandas as pd \n",
    "import json\n",
    "from tensorflow.keras.preprocessing.text import Tokenizer\n",
    "from tensorflow.keras.preprocessing.sequence import pad_sequences\n",
    "from sklearn.preprocessing import LabelEncoder\n",
    "from tensorflow.keras.layers import Input, Embedding, LSTM, Dense, GlobalMaxPooling1D, Flatten\n",
    "from tensorflow.keras.models import Model\n",
    "\n",
    "import streamlit as st"
   ]
  },
  {
   "cell_type": "code",
   "execution_count": 2,
   "id": "a3fc56d0",
   "metadata": {},
   "outputs": [],
   "source": [
    "champ_names = pickle.load(open(\"data files/champ_names.pkl\",'rb'))\n",
    "responses = pickle.load(open(\"data files/responses.pkl\",'rb'))\n",
    "\n",
    "data = pd.read_csv('data files/Train_data.csv')"
   ]
  },
  {
   "cell_type": "code",
   "execution_count": 3,
   "id": "921d241f",
   "metadata": {},
   "outputs": [],
   "source": [
    "# Tokenizing the inputs\n",
    "\n",
    "tokenzier = Tokenizer(num_words=2000)\n",
    "tokenzier.fit_on_texts(data['inputs'])\n",
    "train = tokenzier.texts_to_sequences(data['inputs'])\n",
    "\n",
    "# Appling Padding\n",
    "\n",
    "x_train = pad_sequences(train)\n",
    "\n",
    "# Encoding\n",
    "\n",
    "labelEnc = LabelEncoder()\n",
    "y_train = labelEnc.fit_transform(data['tags'])\n",
    "\n",
    "# Setting the input shape\n",
    "\n",
    "input_shape = x_train.shape[1]"
   ]
  },
  {
   "cell_type": "code",
   "execution_count": 4,
   "id": "17a20489",
   "metadata": {},
   "outputs": [],
   "source": [
    "# Setting the URLs\n",
    "build_url = \"https://u.gg/lol/champions/{}/build\"\n",
    "patchhis_url = \"https://leagueoflegends.fandom.com/wiki/{}/LoL/Patch_history\"\n",
    "\n",
    "\n",
    "def name_find(list1, list2):\n",
    "    for i in list1: \n",
    "        if i not in list1 or i not in list2:\n",
    "            name = i\n",
    "    return name"
   ]
  },
  {
   "cell_type": "code",
   "execution_count": 5,
   "id": "c8c6d81c",
   "metadata": {},
   "outputs": [
    {
     "name": "stdout",
     "output_type": "stream",
     "text": [
      "Unique word count: 86\n",
      "Final output classes: 10\n"
     ]
    }
   ],
   "source": [
    "# Defining Vocabulary \n",
    "\n",
    "vocabulary = len(tokenzier.word_index)\n",
    "print(\"Unique word count:\", vocabulary)\n",
    "output_length = labelEnc.classes_.shape[0]\n",
    "print(\"Final output classes:\", output_length)\n",
    "\n",
    "# Defining the model\n",
    "\n",
    "inp = Input(shape=(input_shape,))\n",
    "x = Embedding(vocabulary+1,10)(inp)\n",
    "x = LSTM(20,return_sequences=True)(x)\n",
    "#x = Dropout(0.5)(x)\n",
    "x = Flatten()(x)\n",
    "x = Dense(output_length, activation='softmax')(x)\n",
    "model = Model(inp,x)\n",
    "\n",
    "model.load_weights(\"data files/model_weights.h5\")"
   ]
  },
  {
   "cell_type": "code",
   "execution_count": 6,
   "id": "98fb2ef0",
   "metadata": {},
   "outputs": [],
   "source": [
    "def predictor():\n",
    "    \n",
    "    bot_name = \"LOL Bot : \"\n",
    "    print(\"Hi! I'm the LOL Chatbot\")\n",
    "    \n",
    "    input_text = input(\"You : \")\n",
    "    texts_pred = []\n",
    "    \n",
    "    # Preprocessing\n",
    "    user_input = [wrd.lower() for wrd in input_text if wrd not in string.punctuation]\n",
    "    user_input = ''.join(user_input)\n",
    "    texts_pred.append(user_input)\n",
    "\n",
    "    # Tokenizing and Padding\n",
    "    user_input = tokenzier.texts_to_sequences(texts_pred)\n",
    "    user_input = np.array(user_input).reshape(-1)\n",
    "    user_input = pad_sequences([user_input],input_shape)\n",
    "\n",
    "    # Prediction\n",
    "    output = model.predict(user_input, verbose=0)\n",
    "    output = output.argmax()\n",
    "\n",
    "    # Assigning the right tag for the prediction\n",
    "    response_tag = labelEnc.inverse_transform([output])[0]\n",
    "    \n",
    "    return response_tag, input_text"
   ]
  },
  {
   "cell_type": "code",
   "execution_count": 7,
   "id": "9abe7477",
   "metadata": {},
   "outputs": [],
   "source": [
    "def responder(pred):\n",
    "    \n",
    "    static_tags = ['greetings', 'tierlist', 'patchnotes', 'bored',  'fun', 'interesting']\n",
    "    ignore_terms = [\"build\", \"runes\", \"patches\", \"patch\", \"history\", \"previous\", \"of\", \"rune\"]\n",
    "    \n",
    "    bot_name = \"LOL Bot : \"\n",
    "    \n",
    "    response_tag = pred[0] \n",
    "    input_text = pred[1] \n",
    "    \n",
    "    if response_tag == \"runes\":\n",
    "        name = name_find(input_text.split(), ignore_terms)\n",
    "        \n",
    "        if name.capitalize() in champ_names:            \n",
    "            print(bot_name, random.choice(responses[response_tag]))\n",
    "            print(build_url.format(name))\n",
    "            \n",
    "        else:\n",
    "            \n",
    "            print(bot_name, \"OOPS! Give me a valid champ name\")\n",
    "    \n",
    "    if response_tag == \"patchhistory\":\n",
    "        name = name_find(input_text.split(), ignore_terms)\n",
    "        \n",
    "        if name.capitalize() in champ_names:            \n",
    "            print(bot_name, random.choice(responses[response_tag]))\n",
    "            print(patchhis_url.format(name))\n",
    "            \n",
    "        else:\n",
    "            print(bot_name, \"OOPS! Give me a valid champ name\")\n",
    "         \n",
    "    if response_tag == \"broken\":\n",
    "        for i in responses[response_tag]:\n",
    "            print(i)\n",
    "\n",
    "    if response_tag in static_tags:\n",
    "        print(bot_name, random.choice(responses[response_tag]))         \n"
   ]
  },
  {
   "cell_type": "code",
   "execution_count": 11,
   "id": "e5d63986",
   "metadata": {},
   "outputs": [],
   "source": [
    "def main():\n",
    "\n",
    "    # Title of the Page\n",
    "    st.title('The League of Legends Chat Bot')\n",
    "    \n",
    "    #Addding Image for reference\n",
    "    st.subheader('Upload CSV File with matching columns')\n",
    "    "
   ]
  },
  {
   "cell_type": "code",
   "execution_count": 8,
   "id": "70dd7d52",
   "metadata": {},
   "outputs": [
    {
     "name": "stdout",
     "output_type": "stream",
     "text": [
      "Hi! I'm the LOL Chatbot\n",
      "You : Hey\n",
      "LOL Bot :  How can I be of help\n",
      "Hi! I'm the LOL Chatbot\n",
      "You : lore\n",
      "LOL Bot :  Heimer created Yi's goggles with 7 lenses for him so he could expand his line of sight\n",
      "Hi! I'm the LOL Chatbot\n",
      "You : teemo runes\n",
      "LOL Bot :  Quick here's the runes page\n",
      "https://u.gg/lol/champions/teemo/build\n",
      "Hi! I'm the LOL Chatbot\n",
      "You : bb\n"
     ]
    }
   ],
   "source": [
    "while True:\n",
    "\n",
    "    message = predictor()\n",
    "    responder(message)\n",
    "    \n",
    "    if message[0] == 'goodbye':\n",
    "        break"
   ]
  },
  {
   "cell_type": "code",
   "execution_count": null,
   "id": "46636699",
   "metadata": {},
   "outputs": [],
   "source": []
  }
 ],
 "metadata": {
  "kernelspec": {
   "display_name": "Chatbot_with_TF",
   "language": "python",
   "name": "chatbot_with_tf"
  },
  "language_info": {
   "codemirror_mode": {
    "name": "ipython",
    "version": 3
   },
   "file_extension": ".py",
   "mimetype": "text/x-python",
   "name": "python",
   "nbconvert_exporter": "python",
   "pygments_lexer": "ipython3",
   "version": "3.10.4"
  }
 },
 "nbformat": 4,
 "nbformat_minor": 5
}
